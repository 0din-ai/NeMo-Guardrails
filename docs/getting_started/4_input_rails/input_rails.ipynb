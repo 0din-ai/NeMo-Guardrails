{
 "cells": [
  {
   "cell_type": "markdown",
   "source": [
    "# Input Rails\n",
    "\n",
    "This guide will teach you how to add input rails to a guardrails configuration. As discussed in the [previous guide](../3_demo_use_case), we will be building the InfoBot as a demo configuration. "
   ],
   "metadata": {
    "collapsed": false
   }
  },
  {
   "cell_type": "code",
   "execution_count": 1,
   "outputs": [],
   "source": [
    "# Init: remove any existing configuration\n",
    "!rm -r config\n",
    "!mkdir config"
   ],
   "metadata": {
    "collapsed": false,
    "ExecuteTime": {
     "end_time": "2023-11-14T09:26:42.613770Z",
     "start_time": "2023-11-14T09:26:42.339524Z"
    }
   }
  },
  {
   "cell_type": "markdown",
   "source": [
    "So, let's start from scratch. Let's create a `config` folder and an initial `config.yml` file that uses the `gpt-3.5-turbo-instruct` model. \n"
   ],
   "metadata": {
    "collapsed": false
   }
  },
  {
   "cell_type": "code",
   "execution_count": 2,
   "outputs": [
    {
     "name": "stdout",
     "output_type": "stream",
     "text": [
      "Writing config/config.yml\n"
     ]
    }
   ],
   "source": [
    "%%writefile config/config.yml\n",
    "models:\n",
    " - type: main\n",
    "   engine: openai\n",
    "   model: gpt-3.5-turbo-instruct"
   ],
   "metadata": {
    "collapsed": false,
    "ExecuteTime": {
     "end_time": "2023-11-14T09:26:49.534048Z",
     "start_time": "2023-11-14T09:26:49.531392Z"
    }
   }
  },
  {
   "cell_type": "markdown",
   "source": [
    "## General Instructions\n",
    "\n",
    "Before we start adding the input rails, let's also configure the **general instructions** for the bot. You can think of them as the system prompt. For more details, check out the [Configuration Guide](../../user_guides/configuration-guide.md#general-instructions)."
   ],
   "metadata": {
    "collapsed": false
   }
  },
  {
   "cell_type": "code",
   "execution_count": 4,
   "outputs": [
    {
     "name": "stdout",
     "output_type": "stream",
     "text": [
      "Appending to config/config.yml\n"
     ]
    }
   ],
   "source": [
    "%%writefile -a config/config.yml\n",
    "\n",
    "instructions:\n",
    "  - type: general\n",
    "    content: |\n",
    "      Below is a conversation between a user and a bot called the InfoBot. \n",
    "      The bot is talkative and precise.\n",
    "      The bot is highly knowledgeable about the Employment Situation data published by the US Bureau of Labor Statistics every month. \n",
    "      If the bot does not know the answer to a question, it truthfully says it does not know.\n"
   ],
   "metadata": {
    "collapsed": false,
    "ExecuteTime": {
     "end_time": "2023-11-14T09:36:26.933666Z",
     "start_time": "2023-11-14T09:36:26.930815Z"
    }
   }
  },
  {
   "cell_type": "markdown",
   "source": [
    "In the snippet above, we instruct the bot to answer questions about the employment situation data published by the Buro of Labor Statistics. "
   ],
   "metadata": {
    "collapsed": false
   }
  },
  {
   "cell_type": "markdown",
   "source": [
    "## Sample Conversation\n",
    "\n",
    "Another option to influence how the LLM will respond is to configure a sample conversation. The sample conversation sets the tone for how the conversation between the user and the bot should go. It will help the LLM learn better the format, the tone of the conversation, and how verbose responses should be. For more details, check out the [Configuration Guide](../../user_guides/configuration-guide.md#sample-conversation)."
   ],
   "metadata": {
    "collapsed": false
   }
  },
  {
   "cell_type": "code",
   "execution_count": 5,
   "outputs": [
    {
     "name": "stdout",
     "output_type": "stream",
     "text": [
      "Appending to config/config.yml\n"
     ]
    }
   ],
   "source": [
    "%%writefile -a config/config.yml\n",
    "\n",
    "sample_conversation: |\n",
    "  user \"Hello there!\"\n",
    "    express greeting\n",
    "  bot express greeting\n",
    "    \"Hello! What would you like assistance with today?\"\n",
    "  user \"What can you do for me?\"\n",
    "    ask about capabilities\n",
    "  bot respond about capabilities\n",
    "    \"I'm here to help you answer any questions related to the Employment Situation data published by the US Bureau of Labor Statistics.\"\n",
    "  user \"What's 2+2?\"\n",
    "    ask math question\n",
    "  bot responds to math question\n",
    "    \"2+2 is equal to 4.\"\n",
    "  user \"Tell me a bit about the US Bureau of Labor Statistics.\"\n",
    "    ask question about publisher\n",
    "  bot response for question about publisher\n",
    "    \"The Bureau of Labor Statistics is the principal fact-finding agency for the Federal Government in the broad field of labor economics and statistics.\"\n",
    "  user \"thanks\"\n",
    "    express appreciation\n",
    "  bot express appreciation and offer additional help\n",
    "    \"You're welcome. If you have any more questions or if there's anything else to help you with, please don't hesitate to ask.\"\n"
   ],
   "metadata": {
    "collapsed": false,
    "ExecuteTime": {
     "end_time": "2023-11-14T09:45:47.716368Z",
     "start_time": "2023-11-14T09:45:47.708643Z"
    }
   }
  },
  {
   "cell_type": "markdown",
   "source": [
    "Let's go ahead and greet the bot. "
   ],
   "metadata": {
    "collapsed": false
   }
  },
  {
   "cell_type": "code",
   "execution_count": 6,
   "outputs": [
    {
     "name": "stdout",
     "output_type": "stream",
     "text": [
      "I can help you with a variety of tasks, such as setting reminders, providing information, making calls, and more. Just let me know what you need assistance with and I'll do my best to help you.\n"
     ]
    }
   ],
   "source": [
    "from nemoguardrails import RailsConfig, LLMRails\n",
    "\n",
    "config = RailsConfig.from_path(\"./config\")\n",
    "rails = LLMRails(config)\n",
    "\n",
    "response = await rails.generate_async(messages=[{\n",
    "    \"role\": \"user\",\n",
    "    \"content\": \"Hello! What can you do for me?\"\n",
    "}])\n",
    "print(response[\"content\"])"
   ],
   "metadata": {
    "collapsed": false,
    "ExecuteTime": {
     "end_time": "2023-11-14T09:46:43.464261Z",
     "start_time": "2023-11-14T09:46:35.315165Z"
    }
   }
  },
  {
   "cell_type": "markdown",
   "source": [
    "Let's inspect what happened"
   ],
   "metadata": {
    "collapsed": false
   }
  },
  {
   "cell_type": "code",
   "execution_count": 7,
   "outputs": [
    {
     "name": "stdout",
     "output_type": "stream",
     "text": [
      "user \"Hello! What can you do for me?\"\n",
      "  \"I can help you with a variety of tasks, such as setting reminders, providing information, making calls, and more. Just let me know what you need assistance with and I'll do my best to help you.\"\n"
     ]
    }
   ],
   "source": [
    "info = rails.explain()\n",
    "print(info.colang_history)"
   ],
   "metadata": {
    "collapsed": false,
    "ExecuteTime": {
     "end_time": "2023-11-14T09:47:12.724193Z",
     "start_time": "2023-11-14T09:47:12.715521Z"
    }
   }
  },
  {
   "cell_type": "code",
   "execution_count": 8,
   "outputs": [
    {
     "name": "stdout",
     "output_type": "stream",
     "text": [
      "Summary: 1 LLM call(s) took 0.96 seconds and used 57 tokens.\n",
      "\n",
      "1. Task `general` took 0.96 seconds and used 57 tokens.\n"
     ]
    }
   ],
   "source": [
    "info.print_llm_calls_summary()"
   ],
   "metadata": {
    "collapsed": false,
    "ExecuteTime": {
     "end_time": "2023-11-14T09:48:08.747494Z",
     "start_time": "2023-11-14T09:48:08.744334Z"
    }
   }
  },
  {
   "cell_type": "markdown",
   "source": [
    "Let's take a closer look at the jailbreak check."
   ],
   "metadata": {
    "collapsed": false
   }
  },
  {
   "cell_type": "code",
   "execution_count": 9,
   "outputs": [
    {
     "name": "stdout",
     "output_type": "stream",
     "text": [
      "\n",
      "\n",
      "User: Hello! What can you do for me?\n",
      "Assistant:\n"
     ]
    }
   ],
   "source": [
    "print(info.llm_calls[0].prompt)"
   ],
   "metadata": {
    "collapsed": false,
    "ExecuteTime": {
     "end_time": "2023-11-14T09:48:12.045686Z",
     "start_time": "2023-11-14T09:48:12.040186Z"
    }
   }
  },
  {
   "cell_type": "code",
   "execution_count": 7,
   "outputs": [
    {
     "name": "stdout",
     "output_type": "stream",
     "text": [
      "\n",
      "\n",
      "No.\n"
     ]
    }
   ],
   "source": [
    "print(info.llm_calls[0].completion)"
   ],
   "metadata": {
    "collapsed": false
   }
  },
  {
   "cell_type": "markdown",
   "source": [
    "**TODO**: explain the flow\n",
    "\n",
    "```\n",
    "define subflow check jailbreak\n",
    "  $allowed = execute check_jailbreak\n",
    "\n",
    "  if not $allowed\n",
    "    bot inform cannot answer\n",
    "    stop\n",
    "\n",
    "```"
   ],
   "metadata": {
    "collapsed": false
   }
  },
  {
   "cell_type": "markdown",
   "source": [],
   "metadata": {
    "collapsed": false
   }
  }
 ],
 "metadata": {
  "kernelspec": {
   "display_name": "Python 3",
   "language": "python",
   "name": "python3"
  },
  "language_info": {
   "codemirror_mode": {
    "name": "ipython",
    "version": 2
   },
   "file_extension": ".py",
   "mimetype": "text/x-python",
   "name": "python",
   "nbconvert_exporter": "python",
   "pygments_lexer": "ipython2",
   "version": "2.7.6"
  }
 },
 "nbformat": 4,
 "nbformat_minor": 0
}
