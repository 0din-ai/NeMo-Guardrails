{
 "cells": [
  {
   "cell_type": "markdown",
   "id": "faa79f3e-38bf-4336-8761-f8cd1453e870",
   "metadata": {},
   "source": [
    "# ABC Bot with LangChain-NVIDIA AI Endpoints\n",
    "\n",
    "This user guide will help you set up and use the ABC Bot with LangChain-NVIDIA AI Endpoints, following the configuration of the bot defined for the [RAG example](../../../getting_started/7_rag/)."
   ]
  },
  {
   "cell_type": "code",
   "execution_count": null,
   "id": "2ab1bd2c-2142-4e65-ad69-b2208b9f6926",
   "metadata": {},
   "outputs": [],
   "source": [
    "!rm -r config\n",
    "!mkdir config\n",
    "!cp -r ../../../../examples/bots/abc/* ./config"
   ]
  },
  {
   "cell_type": "markdown",
   "id": "bf619d8e-7b97-4f3d-bc81-4d845594330e",
   "metadata": {},
   "source": [
    "## Prerequisites\n",
    "\n",
    "Before you begin, ensure you have the following prerequisites in place:\n",
    "\n",
    "1. The [langchain-nvidia-ai-endpoints](https://github.com/langchain-ai/langchain-nvidia/tree/main/libs/ai-endpoints) package installed:"
   ]
  },
  {
   "cell_type": "code",
   "execution_count": null,
   "id": "0abf75be-95a2-45f0-a300-d10381f7dea5",
   "metadata": {
    "scrolled": true
   },
   "outputs": [],
   "source": [
    "!pip install -U langchain-nvidia-ai-endpoints"
   ]
  },
  {
   "cell_type": "markdown",
   "id": "573aa13e-e907-4ec2-aca1-6b56e2bea2ea",
   "metadata": {},
   "source": [
    "2. An NVIDIA NGC account to access AI Foundation Models. Create a free account at the [NVIDIA NGC website](https://ngc.nvidia.com/) to access AI Foundation Models.\n",
    "\n",
    "3. An API key from NVIDIA AI Foundation Endpoints:\n",
    "    -  Generate an API key by navigating to the AI Foundation Models section on the NVIDIA NGC website, selecting a model with an API endpoint, and generating an API key.\n",
    "    -  Export the NVIDIA API key as an environment variable:"
   ]
  },
  {
   "cell_type": "markdown",
   "id": "b2d72a3c-8774-45fe-9bdb-58c8f8979f91",
   "metadata": {},
   "source": [
    "!export NVIDIA_API_KEY=nvapi-XXXXXXXXXXXXXXXXXXXXXXXXXX # Replace with your own key"
   ]
  },
  {
   "cell_type": "markdown",
   "id": "3bc7c59f-c572-4546-915b-6633f0eee1e6",
   "metadata": {},
   "source": [
    "4. Alternatively, set the environment variable within your Python script:"
   ]
  },
  {
   "cell_type": "code",
   "execution_count": 267,
   "id": "65a1e73e-eb5a-498c-a148-8ddba6d359ac",
   "metadata": {},
   "outputs": [],
   "source": [
    "import os\n",
    "os.environ[\"NVIDIA_API_KEY\"] = \"nvapi-XXXXXXXXXXXXXXXXXXXXXXXXXX\" # Replace with your own key"
   ]
  },
  {
   "cell_type": "markdown",
   "id": "9a251dfe-6058-417f-9f9b-a71697e9e38f",
   "metadata": {},
   "source": [
    "5. If you're running this inside a notebook, patch the AsyncIO loop."
   ]
  },
  {
   "cell_type": "code",
   "execution_count": 269,
   "id": "bb13954b-7eb0-4f0c-a98a-48ca86809bc6",
   "metadata": {},
   "outputs": [],
   "source": [
    "import nest_asyncio\n",
    "\n",
    "nest_asyncio.apply()"
   ]
  },
  {
   "cell_type": "markdown",
   "id": "6bf3af12-b487-435c-938b-579bb786a7f0",
   "metadata": {},
   "source": [
    "## Existing Guardrails Configuration\n",
    "\n",
    "The configuration for the ABC bot is set up to utilize OpenAI's models through the OpenAI engine."
   ]
  },
  {
   "cell_type": "code",
   "execution_count": 270,
   "id": "5b90bf59-da0a-4897-85cd-a8956d27fbf1",
   "metadata": {},
   "outputs": [
    {
     "name": "stdout",
     "output_type": "stream",
     "text": [
      "  - type: main\n",
      "    engine: openai\n",
      "    model: gpt-3.5-turbo-instruct\n",
      "\n"
     ]
    }
   ],
   "source": [
    "!awk '/^models:/{flag=1; next} /^[a-zA-Z]+:/{flag=0} flag' ./config/config.yml"
   ]
  },
  {
   "cell_type": "markdown",
   "id": "b98abee4-e727-41b8-9eed-4c536d2d072e",
   "metadata": {
    "jp-MarkdownHeadingCollapsed": true
   },
   "source": [
    "## Changing the Model and the Engine in `config.yml`\n",
    "\n",
    "To change the model used by the bot, update the `model` variable within the models section of the `config.yml` file to the desired model supported by NVIDIA AI Foundation Endpoints.\n",
    "\n",
    "```yaml\n",
    "models:\n",
    "  - type: main\n",
    "    engine: nvidia_ai_endpoints\n",
    "    model: playground_mixtral_8x7b\n",
    "```"
   ]
  },
  {
   "cell_type": "markdown",
   "id": "b14e9279-a535-429a-91d3-805c8e146daa",
   "metadata": {},
   "source": [
    "## Registering ChatNVIDIA as a New Provider\n",
    "\n",
    "To change the engine used by the bot, you need to register the new provider within the NeMo Guardrails framework. This is done using the `register_llm_provider` function, which maps the `nvidia_ai_endpoints` identifier to the `ChatNVIDIA` class. As a result, the ABC Bot can call upon `ChatNVIDIA` when it needs to interact with NVIDIA AI Foundation Endpoints and access the models."
   ]
  },
  {
   "cell_type": "code",
   "execution_count": 271,
   "id": "b332cafe-76e0-448d-ba3b-d8aa21ed66b4",
   "metadata": {},
   "outputs": [],
   "source": [
    "from nemoguardrails import LLMRails, RailsConfig\n",
    "\n",
    "config = RailsConfig.from_path(\"./config\")\n",
    "rails = LLMRails(config)"
   ]
  },
  {
   "cell_type": "markdown",
   "id": "d4d9f276-5374-4504-ac4b-1f0fc86421fe",
   "metadata": {},
   "source": [
    "## Testing the Bot\n",
    "\n",
    "Start an interactive chat session with the bot using the following command, ensuring the correct path to your configuration file is specified:"
   ]
  },
  {
   "cell_type": "code",
   "execution_count": 272,
   "id": "8caba345-3363-4bc5-9c47-3b5bb92cefe4",
   "metadata": {},
   "outputs": [
    {
     "name": "stdout",
     "output_type": "stream",
     "text": [
      "The ABC Company provides eligible employees with 20 days of paid vacation time per year, accrued monthly. However, I would need to access your specific information to provide an exact number of days you have taken or accrued. Please refer to the employee handbook for more information.\n"
     ]
    }
   ],
   "source": [
    "response = rails.generate(messages=[\n",
    "{\n",
    "    \"role\": \"user\",\n",
    "    \"content\": \"How many vacation days do I have per year?\"\n",
    "}])\n",
    "print(response['content'])"
   ]
  },
  {
   "cell_type": "code",
   "execution_count": null,
   "id": "b71eaee3-6515-4b4e-afc4-7023632bf537",
   "metadata": {},
   "outputs": [],
   "source": []
  }
 ],
 "metadata": {
  "kernelspec": {
   "display_name": "Python 3 (ipykernel)",
   "language": "python",
   "name": "python3"
  },
  "language_info": {
   "codemirror_mode": {
    "name": "ipython",
    "version": 3
   },
   "file_extension": ".py",
   "mimetype": "text/x-python",
   "name": "python",
   "nbconvert_exporter": "python",
   "pygments_lexer": "ipython3",
   "version": "3.10.12"
  }
 },
 "nbformat": 4,
 "nbformat_minor": 5
}
