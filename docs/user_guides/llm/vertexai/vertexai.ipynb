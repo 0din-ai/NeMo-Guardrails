{
 "cells": [
  {
   "cell_type": "markdown",
   "id": "4095e627-9bb2-44d7-82f1-58b27a1af1e0",
   "metadata": {},
   "source": [
    "# Using LLMs hosted on Vertex AI "
   ]
  },
  {
   "cell_type": "markdown",
   "id": "98cfbad3-ce56-4306-b996-7869fb9b007f",
   "metadata": {},
   "source": [
    "This guide shows an example that queries LLMs hosted on Vertex AI. This guide includes an example GuardRails configuration that is a variation of the ABC bot defined in the the [Getting Started Guide](../../../getting_started/README.md). The only change is that this changes the model being used `gemini-1.0-pro` using the `vertexai` engine.  \n",
    "\n",
    "This guide assumes you have configured and tested direct programmatic querying of Vertex AI models. If not, refer to [this guide](../../advanced/vertexai-setup.md). "
   ]
  },
  {
   "cell_type": "markdown",
   "id": "05fc110d-efb2-4e59-a962-6629c959f579",
   "metadata": {},
   "source": [
    "The following additional python libraries are needed to use Vertex AI with GuardRails."
   ]
  },
  {
   "cell_type": "code",
   "execution_count": null,
   "id": "0fed8014-ecd8-4585-8781-63523e2cecf3",
   "metadata": {},
   "outputs": [],
   "source": [
    "!pip install google-cloud-aiplatform>=1.38.0\n",
    "!pip install langchain-google-vertexai==0.1.0"
   ]
  },
  {
   "cell_type": "markdown",
   "id": "dab99bd2-0568-49a4-85b9-2f8e2576c64b",
   "metadata": {},
   "source": [
    "Copy the ABC bot into a subdirectory called `config`"
   ]
  },
  {
   "cell_type": "code",
   "execution_count": null,
   "id": "700c6d15-da11-4ec1-9146-6f76d1fd9215",
   "metadata": {},
   "outputs": [],
   "source": [
    "!cp -r ../../../../examples/bots/abc config"
   ]
  },
  {
   "cell_type": "markdown",
   "id": "71559518-5907-423b-a7c3-81daedd8a0ba",
   "metadata": {},
   "source": [
    "Open `config/config.yml` and edit the `models` portion as follows:\n",
    "```\n",
    "models:\n",
    "  - type: main\n",
    "    engine: vertexai\n",
    "    model: gemini-1.0-pro\n",
    "```\n",
    "Test the model with ABC rails in place."
   ]
  },
  {
   "cell_type": "code",
   "execution_count": 3,
   "id": "ba9b49e9-b550-4c1c-9fe2-7754d3358e43",
   "metadata": {},
   "outputs": [
    {
     "data": {
      "application/vnd.jupyter.widget-view+json": {
       "model_id": "7a3863be2177416db4ac30b4de2580de",
       "version_major": 2,
       "version_minor": 0
      },
      "text/plain": [
       "Fetching 7 files:   0%|          | 0/7 [00:00<?, ?it/s]"
      ]
     },
     "metadata": {},
     "output_type": "display_data"
    },
    {
     "name": "stdout",
     "output_type": "stream",
     "text": [
      "User: Hi, who are you?\n",
      "Bot:  {'role': 'assistant', 'content': \"I'm the ABC Bot, a virtual assistant designed to answer your questions about the ABC Company. I'm here to help you with any inquiries you may have about our policies, benefits, and more. How can I assist you today?\"}\n"
     ]
    }
   ],
   "source": [
    "import nest_asyncio\n",
    "nest_asyncio.apply()\n",
    "\n",
    "from nemoguardrails import RailsConfig\n",
    "from nemoguardrails import LLMRails\n",
    "\n",
    "config_path = \"config\"\n",
    "config = RailsConfig.from_path(config_path)\n",
    "\n",
    "rails = LLMRails(config)\n",
    "user_utt = \"Hi, who are you?\"\n",
    "response = rails.generate(messages=[{\"role\": \"user\", \"content\": user_utt}])\n",
    "print(\"User:\", user_utt)\n",
    "print(\"Bot: \", response)"
   ]
  },
  {
   "cell_type": "markdown",
   "id": "979c8c65-d72e-4eac-b284-d26dc2609035",
   "metadata": {},
   "source": [
    "Note that the bot follows the provided rails and responds as the ABC bot."
   ]
  }
 ],
 "metadata": {
  "kernelspec": {
   "display_name": "guardrails_vertex_min_env_3_10",
   "language": "python",
   "name": "guardrails_vertex_min_env_3_10"
  },
  "language_info": {
   "codemirror_mode": {
    "name": "ipython",
    "version": 3
   },
   "file_extension": ".py",
   "mimetype": "text/x-python",
   "name": "python",
   "nbconvert_exporter": "python",
   "pygments_lexer": "ipython3",
   "version": "3.10.2"
  }
 },
 "nbformat": 4,
 "nbformat_minor": 5
}
