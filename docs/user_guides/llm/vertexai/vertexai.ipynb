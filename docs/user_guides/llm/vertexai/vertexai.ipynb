{
 "cells": [
  {
   "cell_type": "markdown",
   "id": "4095e627-9bb2-44d7-82f1-58b27a1af1e0",
   "metadata": {},
   "source": [
    "# Using LLMs hosted on Vertex AI "
   ]
  },
  {
   "cell_type": "markdown",
   "id": "98cfbad3-ce56-4306-b996-7869fb9b007f",
   "metadata": {},
   "source": [
    "This guide shows an example that queries LLMs hosted on Vertex AI. This guide includes an example GuardRails configuration that is a variation of the ABC bot defined in the the [Getting Started Guide](../../getting_started). The only change is that this changes the model being used `gemini-1.0-pro` using the `vertexai` engine.  "
   ]
  },
  {
   "cell_type": "markdown",
   "id": "33d74f7b-3887-4b9f-a2c0-a06628985d14",
   "metadata": {},
   "source": [
    "In order to use Vertex AI, you need to perform some initial setup with the Google Cloud Platform (GCP).\n",
    "1. Create a GCP account: The following [page](https://cloud.google.com/docs/get-started) provides more information about the Google Cloud Platform and how to get started. In your account [create a project](https://cloud.google.com/resource-manager/docs/creating-managing-projects) and [set up billing for it](https://cloud.google.com/billing/docs/how-to/modify-project#enable_billing_for_an_existing_project)\n",
    "2. Install the `gcloud` CLI ([guide](https://cloud.google.com/sdk/docs/install)). Note that although 3.8 - 3.12 are listed as supported, [this error](https://stackoverflow.com/questions/77316716/gcloud-modulenotfounderror-no-module-named-imp) occurs on Python 3.12. This guide was tested using Python 3.10.2. \n",
    "3. Create a service account following [this guide](https://cloud.google.com/iam/docs/service-accounts-create) and grant it the role of `Vertex AI Service Agent`. \n",
    "4. Create and download a service account key for the service account ([guide](https://cloud.google.com/iam/docs/keys-create-delete)).\n",
    "5. Enable the Vertex AI API ([guide](https://cloud.google.com/vertex-ai/docs/start/cloud-environment#:~:text=Enable%20Vertex%20AI%20APIs,-In%20the%20Google&text=Click%20Enable%20All%20Recommended%20APIs,the%20APIs%20are%20being%20enabled.))\n",
    "6. Install additional python libraries needed to call Vertex AI using `pip install google-cloud-aiplatform>=1.38.0`\n"
   ]
  },
  {
   "cell_type": "markdown",
   "id": "05fc110d-efb2-4e59-a962-6629c959f579",
   "metadata": {},
   "source": [
    "The following additional python libraries are needed to use Vertex AI"
   ]
  },
  {
   "cell_type": "code",
   "execution_count": null,
   "id": "0fed8014-ecd8-4585-8781-63523e2cecf3",
   "metadata": {},
   "outputs": [],
   "source": [
    "!pip install google-cloud-aiplatform>=1.38.0\n",
    "!pip install langchain-google-vertexai==0.1.0"
   ]
  },
  {
   "cell_type": "markdown",
   "id": "e273d563-c49c-49f5-930e-d3582c31f3a4",
   "metadata": {},
   "source": [
    "Test that you are successfully able to call VertexAI APIs using the following snippet:"
   ]
  },
  {
   "cell_type": "code",
   "execution_count": 4,
   "id": "49db990b-4aec-4661-adf5-e3aaf549c000",
   "metadata": {},
   "outputs": [
    {
     "name": "stdout",
     "output_type": "stream",
     "text": [
      "User: Hi, who are you?\n",
      "Gemini: I am Gemini, a multimodal AI model, developed by Google.\n",
      "------\n",
      "User: What can you tell me about the United States?\n",
      "Gemini: The United States of America, often referred to as the US or America, is a country primarily located in North America. It consists of 50 states, a federal district, five major unincorporated territories, 326 Indian reservations, and nine minor outlying islands. At 3.8 million square miles, the United States is the world's third or fourth-largest country by total area and is slightly smaller than the entire continent of Europe's 3.9 million square miles. With a population of over 332 million, it is the third most populous country in the world. The capital is Washington, D.C., and the most populous city is New York City.\n",
      "\n",
      "The United States is a federal republic and a representative democracy, in which the government is chosen by the people. The country is divided into three branches of government: the legislative branch, the executive branch, and the judicial branch. The legislative branch is composed of the Senate and the House of Representatives, which together form the United States Congress. The executive branch is led by the President, who is also the commander-in-chief of the armed forces. The judicial branch is composed of the Supreme Court and lower federal courts.\n",
      "\n",
      "The United States has a diverse economy, with a gross domestic product (GDP) of over $20 trillion. The country is a major exporter of agricultural products, machinery, and technology. The United States is also a major importer of oil and other natural resources.\n",
      "\n",
      "The United States is a member of the United Nations, NATO, the G7, the G20, and the Organisation for Economic Co-operation and Development (OECD). The country is a permanent member of the United Nations Security Council.\n",
      "\n",
      "The United States has a long and complex history. The first European settlers arrived in the early 17th century. The United States gained independence from Great Britain in 1776. The country has been involved in a number of wars, including the American Civil War, the Spanish-American War, and World War II.\n",
      "\n",
      "The United States is a diverse country, with people from all over the world. The country has a rich culture, with a wide variety of music, art, and literature. The United States is also a major center of technology and innovation.\n",
      "------\n",
      "User: Where was its 44th president born?\n",
      "Gemini: The 44th President of the United States, Barack Obama, was born in Honolulu, Hawaii on August 4, 1961.\n",
      "------\n"
     ]
    }
   ],
   "source": [
    "import os\n",
    "os.environ['GOOGLE_APPLICATION_CREDENTIALS'] = \"<path>/<to>/<your>/<service>/<account>/<key>.json\"\n",
    "\n",
    "from vertexai.preview.generative_models import GenerativeModel, ChatSession\n",
    "\n",
    "model = GenerativeModel(\"gemini-1.0-pro\")\n",
    "chat = model.start_chat()\n",
    "\n",
    "def get_chat_response(chat: ChatSession, prompt: str):\n",
    "    response = chat.send_message(prompt)\n",
    "    return response.text\n",
    "\n",
    "prompts = [\n",
    "    \"Hi, who are you?\",\n",
    "    \"What can you tell me about the United States?\",\n",
    "    \"Where was its 44th president born?\",\n",
    "]\n",
    "    \n",
    "for prompt in prompts:\n",
    "    print(\"User:\", prompt)\n",
    "    print(\"Gemini:\", get_chat_response(chat, prompt))\n",
    "    print(\"------\")"
   ]
  },
  {
   "cell_type": "markdown",
   "id": "30152984-8cb3-49ec-bd3e-f13b205e9afb",
   "metadata": {},
   "source": [
    "Now we can test Vertex AI models with GuardRails. The `config` directory includes a variation of the ABC Bot but calling the Gemini 1.0 Pro model from Vertex AI. The main difference is in the `config.yml` file. The relevant section is \n",
    "```\n",
    "models:\n",
    "  - type: main\n",
    "    engine: vertexai\n",
    "    model: gemini-1.0-pro\n",
    "```\n",
    "This makes use of the [integration of Vertex AI into LangChain](https://python.langchain.com/docs/integrations/llms/google_vertex_ai_palm) to call Vertex AI models."
   ]
  },
  {
   "cell_type": "code",
   "execution_count": 3,
   "id": "ba9b49e9-b550-4c1c-9fe2-7754d3358e43",
   "metadata": {},
   "outputs": [
    {
     "data": {
      "application/vnd.jupyter.widget-view+json": {
       "model_id": "7a3863be2177416db4ac30b4de2580de",
       "version_major": 2,
       "version_minor": 0
      },
      "text/plain": [
       "Fetching 7 files:   0%|          | 0/7 [00:00<?, ?it/s]"
      ]
     },
     "metadata": {},
     "output_type": "display_data"
    },
    {
     "name": "stdout",
     "output_type": "stream",
     "text": [
      "User: Hi, who are you?\n",
      "Bot:  {'role': 'assistant', 'content': \"I'm the ABC Bot, a virtual assistant designed to answer your questions about the ABC Company. I'm here to help you with any inquiries you may have about our policies, benefits, and more. How can I assist you today?\"}\n"
     ]
    }
   ],
   "source": [
    "import nest_asyncio\n",
    "nest_asyncio.apply()\n",
    "\n",
    "from nemoguardrails import RailsConfig\n",
    "from nemoguardrails import LLMRails\n",
    "\n",
    "config_path = \"config\"\n",
    "config = RailsConfig.from_path(config_path)\n",
    "\n",
    "rails = LLMRails(config)\n",
    "user_utt = \"Hi, who are you?\"\n",
    "response = rails.generate(messages=[{\"role\": \"user\", \"content\": user_utt}])\n",
    "print(\"User:\", user_utt)\n",
    "print(\"Bot: \", response)"
   ]
  },
  {
   "cell_type": "markdown",
   "id": "979c8c65-d72e-4eac-b284-d26dc2609035",
   "metadata": {},
   "source": [
    "Now the bot follows the provided rails and responds as the ABC bot."
   ]
  }
 ],
 "metadata": {
  "kernelspec": {
   "display_name": "guardrails_vertex_min_env_3_10",
   "language": "python",
   "name": "guardrails_vertex_min_env_3_10"
  },
  "language_info": {
   "codemirror_mode": {
    "name": "ipython",
    "version": 3
   },
   "file_extension": ".py",
   "mimetype": "text/x-python",
   "name": "python",
   "nbconvert_exporter": "python",
   "pygments_lexer": "ipython3",
   "version": "3.10.2"
  }
 },
 "nbformat": 4,
 "nbformat_minor": 5
}
