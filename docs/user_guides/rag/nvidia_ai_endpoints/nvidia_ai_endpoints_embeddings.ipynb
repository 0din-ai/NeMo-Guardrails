{
 "cells": [
  {
   "cell_type": "markdown",
   "metadata": {},
   "source": "# Using Embeddings Models hosted on NVIDIA API Catalog"
  },
  {
   "cell_type": "markdown",
   "metadata": {},
   "source": "This is a guide on using embedding models hosted on the NVIDIA API Catalog for the retrieval step in retrieval-augmented generation. It starts with the [ABC Bot configuration](../../../../examples/bots/abc) and modifies it to use the NVIDIA `nvidia/nv-embed-v1` model to retrieve embeddings."
  },
  {
   "cell_type": "markdown",
   "metadata": {},
   "source": [
    "## Prerequisites\n",
    "\n",
    "1. Install the [langchain-nvidia-ai-endpoints](https://github.com/langchain-ai/langchain-nvidia/tree/main/libs/ai-endpoints) package:"
   ]
  },
  {
   "cell_type": "code",
   "metadata": {
    "ExecuteTime": {
     "end_time": "2024-07-10T13:32:52.470975Z",
     "start_time": "2024-07-10T13:32:48.520894Z"
    }
   },
   "source": [
    "!pip install -U --quiet langchain-nvidia-ai-endpoints"
   ],
   "outputs": [
    {
     "name": "stdout",
     "output_type": "stream",
     "text": [
      "\r\n",
      "\u001B[1m[\u001B[0m\u001B[34;49mnotice\u001B[0m\u001B[1;39;49m]\u001B[0m\u001B[39;49m A new release of pip is available: \u001B[0m\u001B[31;49m23.3.2\u001B[0m\u001B[39;49m -> \u001B[0m\u001B[32;49m24.1.2\u001B[0m\r\n",
      "\u001B[1m[\u001B[0m\u001B[34;49mnotice\u001B[0m\u001B[1;39;49m]\u001B[0m\u001B[39;49m To update, run: \u001B[0m\u001B[32;49mpip install --upgrade pip\u001B[0m\r\n"
     ]
    }
   ],
   "execution_count": 1
  },
  {
   "cell_type": "markdown",
   "metadata": {},
   "source": [
    "2. An NVIDIA NGC account to access AI Foundation Models. To create a free account go to [NVIDIA NGC website](https://ngc.nvidia.com/).\n",
    "\n",
    "3. An API key from NVIDIA AI Catalog:\n",
    "    -  Generate an API key by navigating to the AI Foundation Models section on the NVIDIA NGC website, selecting a model with an API endpoint, and generating an API key.\n",
    "    -  Export the NVIDIA API key as an environment variable:"
   ]
  },
  {
   "cell_type": "code",
   "metadata": {
    "ExecuteTime": {
     "end_time": "2024-07-10T13:32:52.588984Z",
     "start_time": "2024-07-10T13:32:52.472377Z"
    }
   },
   "source": "!export NVIDIA_API_KEY=$NVIDIA_API_KEY # Replace with your own key",
   "outputs": [],
   "execution_count": 2
  },
  {
   "cell_type": "markdown",
   "metadata": {},
   "source": [
    "4. If you're running this inside a notebook, patch the AsyncIO loop."
   ]
  },
  {
   "cell_type": "code",
   "metadata": {
    "ExecuteTime": {
     "end_time": "2024-07-10T13:32:52.604107Z",
     "start_time": "2024-07-10T13:32:52.590192Z"
    }
   },
   "source": [
    "import nest_asyncio\n",
    "\n",
    "nest_asyncio.apply()"
   ],
   "outputs": [],
   "execution_count": 3
  },
  {
   "cell_type": "markdown",
   "metadata": {},
   "source": [
    "## Configuration\n",
    "\n",
    "To get started, copy the ABC bot configuration into a subdirectory called `config`:"
   ]
  },
  {
   "cell_type": "code",
   "metadata": {
    "ExecuteTime": {
     "end_time": "2024-07-10T13:32:52.746275Z",
     "start_time": "2024-07-10T13:32:52.604965Z"
    }
   },
   "source": [
    "!cp -r ../../../../examples/bots/abc config"
   ],
   "outputs": [],
   "execution_count": 4
  },
  {
   "cell_type": "markdown",
   "metadata": {},
   "source": [
    "Update the `models` section of the `config.yml` as follows. Here we update the model used for generation (with `type: main` to `meta/llama3-70b-instruct`) and \n",
    "\n",
    "```yaml\n",
    "...\n",
    "models:\n",
    "  - type: main\n",
    "    engine: nvidia_ai_endpoints\n",
    "    model: meta/llama3-70b-instruct\n",
    "  - type: embeddings\n",
    "    engine: nvidia_ai_endpoints\n",
    "    model: nvidia/nv-embed-v1\n",
    "...\n",
    "```"
   ]
  },
  {
   "metadata": {
    "ExecuteTime": {
     "end_time": "2024-07-10T13:32:52.756849Z",
     "start_time": "2024-07-10T13:32:52.748167Z"
    }
   },
   "cell_type": "code",
   "source": [
    "# Hide from documentation page.\n",
    "with open(\"config/config.yml\") as f:\n",
    "  content = f.read()\n",
    "\n",
    "content = content.replace(\"\"\"\n",
    "  - type: main\n",
    "    engine: openai\n",
    "    model: gpt-3.5-turbo-instruct\"\"\",\n",
    "\"\"\"\n",
    "  - type: main\n",
    "    engine: nvidia_ai_endpoints\n",
    "    model: meta/llama3-70b-instruct\n",
    "  - type: embeddings\n",
    "    engine: nvidia_ai_endpoints\n",
    "    model: nvidia/nv-embed-v1\n",
    "\"\"\")\n",
    "\n",
    "with open(\"config/config.yml\", \"w\") as f:\n",
    "  f.write(content)"
   ],
   "outputs": [],
   "execution_count": 5
  },
  {
   "cell_type": "markdown",
   "metadata": {},
   "source": [
    "## Usage \n",
    "\n",
    "Load the guardrails configuration:"
   ]
  },
  {
   "cell_type": "code",
   "metadata": {
    "ExecuteTime": {
     "end_time": "2024-07-10T13:33:25.669447Z",
     "start_time": "2024-07-10T13:32:52.757631Z"
    }
   },
   "source": [
    "from nemoguardrails import LLMRails, RailsConfig\n",
    "\n",
    "config = RailsConfig.from_path(\"./config\")\n",
    "rails = LLMRails(config)"
   ],
   "outputs": [],
   "execution_count": 6
  },
  {
   "cell_type": "markdown",
   "metadata": {},
   "source": [
    "Test response generation:"
   ]
  },
  {
   "cell_type": "code",
   "metadata": {
    "ExecuteTime": {
     "end_time": "2024-07-10T13:38:20.850032Z",
     "start_time": "2024-07-10T13:38:02.209166Z"
    }
   },
   "source": [
    "response = rails.generate(\n",
    "    messages=[{\"role\": \"user\", \"content\": \"How many personal days off do I have?\"}]\n",
    ")\n",
    "print(response[\"content\"])"
   ],
   "outputs": [
    {
     "name": "stdout",
     "output_type": "stream",
     "text": [
      "In addition to vacation and sick leave, employees also have two personal days per year. Please refer to the employee handbook for more information.\n"
     ]
    }
   ],
   "execution_count": 9
  },
  {
   "metadata": {
    "ExecuteTime": {
     "end_time": "2024-07-10T13:39:29.267683Z",
     "start_time": "2024-07-10T13:39:29.264294Z"
    }
   },
   "cell_type": "code",
   "source": "print(rails.explain_info.llm_calls[3].prompt)",
   "outputs": [
    {
     "name": "stdout",
     "output_type": "stream",
     "text": [
      "\"\"\"\n",
      "Below is a conversation between a user and a bot called the ABC Bot.\n",
      "The bot is designed to answer employee questions about the ABC Company.\n",
      "The bot is knowledgeable about the employee handbook and company policies.\n",
      "If the bot does not know the answer to a question, it truthfully says it does not know.\n",
      "\n",
      "\"\"\"\n",
      "\n",
      "# This is how a conversation between a user and the bot can go:\n",
      "User message: \"Hi there. Can you help me with some questions I have about the company?\"\n",
      "User intent: express greeting and ask for assistance\n",
      "Bot intent: express greeting and confirm and offer assistance\n",
      "Bot message: \"Hi there! I'm here to help answer any questions you may have about the ABC Company. What would you like to know?\"\n",
      "User message: \"What's the company policy on paid time off?\"\n",
      "User intent: ask question about benefits\n",
      "Bot intent: respond to question about benefits\n",
      "Bot message: \"The ABC Company provides eligible employees with up to two weeks of paid vacation time per year, as well as five paid sick days per year. Please refer to the employee handbook for more information.\"\n",
      "\n",
      "\n",
      "\n",
      "# This is some additional context:\n",
      "```markdown\n",
      "* In addition to vacation, sick leave, and personal days, ABC Company offers paid time off for jury duty, military leave, and bereavement.\n",
      "Employees must provide reasonable notice for time off, whenever possible. Unused vacation and sick leave will be paid out upon termination.\n",
      "\n",
      "Employees are expected to maintain a healthy work-life balance and are encouraged to use their time off when needed.\n",
      "* ABC Company offers stock options to all employees, vesting over a four-year period.\n",
      "```\n",
      "\n",
      "\n",
      "# This is how the bot talks:\n",
      "Bot intent: refuse to respond about misinformation\n",
      "Bot message: \"Sorry, I can't assist with spreading misinformation. It's essential to promote truthful and accurate information.\"\n",
      "\n",
      "Bot intent: refuse to respond about unethical practices\n",
      "Bot message: \"Apologies, but I can't provide guidance on unethical actions. It's important to act with integrity.\"\n",
      "\n",
      "Bot intent: refuse to respond about exploitation\n",
      "Bot message: \"Apologies, but I can't provide help with exploiting others. It's important to treat everyone with respect.\"\n",
      "\n",
      "Bot intent: refuse to respond\n",
      "Bot message: \"I'm sorry, I can't respond to that.\"\n",
      "\n",
      "Bot intent: inform answer unknown\n",
      "Bot message: \"I don't know the answer to that.\"\n",
      "\n",
      "\n",
      "\n",
      "# This is the current conversation between the user and the bot:\n",
      "User message: \"Hi there. Can you help me with some questions I have about the company?\"\n",
      "User intent: express greeting and ask for assistance\n",
      "Bot intent: express greeting and confirm and offer assistance\n",
      "Bot message: \"Hi there! I'm here to help answer any questions you may have about the ABC Company. What would you like to know?\"\n",
      "User message: \"What's the company policy on paid time off?\"\n",
      "User intent: ask question about benefits\n",
      "Bot intent: respond to question about benefits\n",
      "Bot message: \"The ABC Company provides eligible employees with up to two weeks of paid vacation time per year, as well as five paid sick days per year. Please refer to the employee handbook for more information.\"\n",
      "\n",
      "User message: \"How many personal days off do I have?\"\n",
      "User intent: ask question about benefits\n",
      "Bot intent: respond to question about benefits\n",
      "\n"
     ]
    }
   ],
   "execution_count": 10
  }
 ],
 "metadata": {
  "kernelspec": {
   "display_name": "guardrails_rag_nvaif_3_12_env",
   "language": "python",
   "name": "python3"
  },
  "language_info": {
   "codemirror_mode": {
    "name": "ipython",
    "version": 3
   },
   "file_extension": ".py",
   "mimetype": "text/x-python",
   "name": "python",
   "nbconvert_exporter": "python",
   "pygments_lexer": "ipython3",
   "version": "3.10.2"
  }
 },
 "nbformat": 4,
 "nbformat_minor": 2
}
