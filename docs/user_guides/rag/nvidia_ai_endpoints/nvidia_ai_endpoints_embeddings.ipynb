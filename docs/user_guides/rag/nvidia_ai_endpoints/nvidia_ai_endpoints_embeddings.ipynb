{
 "cells": [
  {
   "cell_type": "markdown",
   "metadata": {},
   "source": [
    "# Using Embeddings Models hosted on NVIDIA AI Playground"
   ]
  },
  {
   "cell_type": "markdown",
   "metadata": {},
   "source": [
    "This is a guide on using embedding models hosted on the NVIDIA AI Playground for the retrieval step in retrieval-augmented generation. It starts with the [ABC Bot configuration](../../../../examples/bots/abc) and modifies it to use the NVIDIA `nvolveqa-40k` model to retrieve embeddings."
   ]
  },
  {
   "cell_type": "markdown",
   "metadata": {},
   "source": [
    "## Prerequisites\n",
    "\n",
    "1. Install the [langchain-nvidia-ai-endpoints](https://github.com/langchain-ai/langchain-nvidia/tree/main/libs/ai-endpoints) package:"
   ]
  },
  {
   "cell_type": "code",
   "execution_count": 1,
   "metadata": {},
   "outputs": [],
   "source": [
    "!pip install -U --quiet langchain-nvidia-ai-endpoints"
   ]
  },
  {
   "cell_type": "markdown",
   "metadata": {},
   "source": [
    "2. An NVIDIA NGC account to access AI Foundation Models. To create a free account go to [NVIDIA NGC website](https://ngc.nvidia.com/).\n",
    "\n",
    "3. An API key from NVIDIA AI Catalog:\n",
    "    -  Generate an API key by navigating to the AI Foundation Models section on the NVIDIA NGC website, selecting a model with an API endpoint, and generating an API key.\n",
    "    -  Export the NVIDIA API key as an environment variable:"
   ]
  },
  {
   "cell_type": "code",
   "execution_count": null,
   "metadata": {},
   "outputs": [],
   "source": [
    "import os\n",
    "os.environ[\"NVIDIA_API_KEY\"] = \"<nvapi-your-key>\""
   ]
  },
  {
   "cell_type": "markdown",
   "metadata": {},
   "source": [
    "4. If you're running this inside a notebook, patch the AsyncIO loop."
   ]
  },
  {
   "cell_type": "code",
   "execution_count": 2,
   "metadata": {},
   "outputs": [],
   "source": [
    "import nest_asyncio\n",
    "\n",
    "nest_asyncio.apply()"
   ]
  },
  {
   "cell_type": "markdown",
   "metadata": {},
   "source": [
    "## Configuration\n",
    "\n",
    "To get started, copy the ABC bot configuration into a subdirectory called `config`:"
   ]
  },
  {
   "cell_type": "code",
   "execution_count": 4,
   "metadata": {},
   "outputs": [],
   "source": [
    "!cp -r ../../../../examples/bots/abc config"
   ]
  },
  {
   "cell_type": "markdown",
   "metadata": {},
   "source": [
    "Update the `models` section of the `config.yml` as follows. Here we update the model used for generation (with `type: main` to `ai-mixtral-8x7b-instruct`) and \n",
    "\n",
    "```yaml\n",
    "...\n",
    "models:\n",
    "  - type: main\n",
    "    engine: nvidia_ai_endpoints\n",
    "    model: ai-mixtral-8x7b-instruct\n",
    "  - type: embeddings\n",
    "    engine: nvidia_ai_endpoints\n",
    "    model: nvolveqa_40k\n",
    "...\n",
    "```"
   ]
  },
  {
   "cell_type": "markdown",
   "metadata": {},
   "source": [
    "## Usage \n",
    "\n",
    "Load the guardrails configuration:"
   ]
  },
  {
   "cell_type": "code",
   "execution_count": 3,
   "metadata": {},
   "outputs": [],
   "source": [
    "from nemoguardrails import LLMRails, RailsConfig\n",
    "\n",
    "config = RailsConfig.from_path(\"./config\")\n",
    "rails = LLMRails(config)"
   ]
  },
  {
   "cell_type": "markdown",
   "metadata": {},
   "source": [
    "Test response generation:"
   ]
  },
  {
   "cell_type": "code",
   "execution_count": 4,
   "metadata": {},
   "outputs": [
    {
     "name": "stdout",
     "output_type": "stream",
     "text": [
      "The ABC Company observes the following paid holidays each year: New Year'\n"
     ]
    }
   ],
   "source": [
    "response = rails.generate(\n",
    "    messages=[{\"role\": \"user\", \"content\": \"What holidays do I have this year?\"}]\n",
    ")\n",
    "print(response[\"content\"])"
   ]
  },
  {
   "cell_type": "markdown",
   "metadata": {},
   "source": [
    "To verify the model and engine used for creating embeddings for retrieval, log internal events when generating a response:"
   ]
  },
  {
   "cell_type": "code",
   "execution_count": 5,
   "metadata": {},
   "outputs": [
    {
     "name": "stdout",
     "output_type": "stream",
     "text": [
      "Response:  The ABC Company observes the following paid holidays each year: New Year'\n",
      "Retrieval event info: \n",
      "[{'data': {'embedding_engine': 'nvidia_ai_endpoints',\n",
      "           'embedding_model': 'nvolveqa_40k',\n",
      "           'relevant_chunks': 'Violations of this code of conduct may result '\n",
      "                              'in disciplinary action up to and including '\n",
      "                              'termination.\\n'\n",
      "                              'Employees must provide reasonable notice for '\n",
      "                              'time off, whenever possible. Unused vacation '\n",
      "                              'and sick leave will be paid out upon '\n",
      "                              'termination.\\n'\n",
      "                              '\\n'\n",
      "                              'Employees are expected to maintain a healthy '\n",
      "                              'work-life balance and are encouraged to use '\n",
      "                              'their time off when needed.\\n'\n",
      "                              'ABC Company works a standard 40-hour workweek, '\n",
      "                              'Monday through Friday, 9:00 AM to 5:00 PM, with '\n",
      "                              'one hour for lunch.\\n'\n",
      "                              '\\n'\n",
      "                              'Employees are eligible for the following time '\n",
      "                              'off:\\n'\n",
      "                              '\\n'\n",
      "                              '* Vacation: 20 days per year, accrued monthly.\\n'\n",
      "                              '* Sick leave: 15 days per year, accrued '\n",
      "                              'monthly.\\n'\n",
      "                              '* Personal days: 5 days per year, accrued '\n",
      "                              'monthly.\\n'\n",
      "                              \"* Paid holidays: New Year's Day, Memorial Day, \"\n",
      "                              'Independence Day, Thanksgiving Day, Christmas '\n",
      "                              'Day.\\n'\n",
      "                              '* Bereavement leave: 3 days paid leave for '\n",
      "                              'immediate family members, 1 day for '\n",
      "                              'non-immediate family members.',\n",
      "           'relevant_chunks_sep': ['Violations of this code of conduct may '\n",
      "                                   'result in disciplinary action up to and '\n",
      "                                   'including termination.',\n",
      "                                   'Employees must provide reasonable notice '\n",
      "                                   'for time off, whenever possible. Unused '\n",
      "                                   'vacation and sick leave will be paid out '\n",
      "                                   'upon termination.\\n'\n",
      "                                   '\\n'\n",
      "                                   'Employees are expected to maintain a '\n",
      "                                   'healthy work-life balance and are '\n",
      "                                   'encouraged to use their time off when '\n",
      "                                   'needed.',\n",
      "                                   'ABC Company works a standard 40-hour '\n",
      "                                   'workweek, Monday through Friday, 9:00 AM '\n",
      "                                   'to 5:00 PM, with one hour for lunch.\\n'\n",
      "                                   '\\n'\n",
      "                                   'Employees are eligible for the following '\n",
      "                                   'time off:\\n'\n",
      "                                   '\\n'\n",
      "                                   '* Vacation: 20 days per year, accrued '\n",
      "                                   'monthly.\\n'\n",
      "                                   '* Sick leave: 15 days per year, accrued '\n",
      "                                   'monthly.\\n'\n",
      "                                   '* Personal days: 5 days per year, accrued '\n",
      "                                   'monthly.\\n'\n",
      "                                   \"* Paid holidays: New Year's Day, Memorial \"\n",
      "                                   'Day, Independence Day, Thanksgiving Day, '\n",
      "                                   'Christmas Day.\\n'\n",
      "                                   '* Bereavement leave: 3 days paid leave for '\n",
      "                                   'immediate family members, 1 day for '\n",
      "                                   'non-immediate family members.'],\n",
      "           'retrieved_for': 'What holidays do I have this year?'},\n",
      "  'event_created_at': '2024-04-18T21:17:17.251374+00:00',\n",
      "  'source_uid': 'NeMoGuardrails',\n",
      "  'type': 'ContextUpdate',\n",
      "  'uid': '1c5428f1-87db-4fc0-a902-2755c81900fe'}]\n"
     ]
    }
   ],
   "source": [
    "response = rails.generate(\n",
    "    messages=[{\"role\": \"user\", \"content\": \"What holidays do I have this year?\"}],\n",
    "    options={\n",
    "        \"log\": {\n",
    "            \"llm_calls\": True,\n",
    "            \"internal_events\": True,\n",
    "        }\n",
    "    }\n",
    ")\n",
    "print(\"Response: \", response.response[0][\"content\"])\n",
    "print(\"Retrieval event info: \")\n",
    "retrieval_events = [e for e in response.log.internal_events if \"data\" in e and \"relevant_chunks\" in e[\"data\"]]\n",
    "from pprint import pprint\n",
    "pprint(retrieval_events)"
   ]
  }
 ],
 "metadata": {
  "kernelspec": {
   "display_name": "guardrails_rag_nvaif_3_12_env",
   "language": "python",
   "name": "python3"
  },
  "language_info": {
   "codemirror_mode": {
    "name": "ipython",
    "version": 3
   },
   "file_extension": ".py",
   "mimetype": "text/x-python",
   "name": "python",
   "nbconvert_exporter": "python",
   "pygments_lexer": "ipython3",
   "version": "3.10.2"
  }
 },
 "nbformat": 4,
 "nbformat_minor": 2
}
